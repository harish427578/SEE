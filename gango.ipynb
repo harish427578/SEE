{
  "nbformat": 4,
  "nbformat_minor": 0,
  "metadata": {
    "colab": {
      "provenance": []
    },
    "kernelspec": {
      "name": "python3",
      "display_name": "Python 3"
    },
    "language_info": {
      "name": "python"
    }
  },
  "cells": [
    {
      "cell_type": "code",
      "execution_count": null,
      "metadata": {
        "colab": {
          "base_uri": "https://localhost:8080/"
        },
        "id": "CTBRLLN6WIMk",
        "outputId": "23cc998d-d71e-47b6-ad0c-22090c6b3bf4"
      },
      "outputs": [
        {
          "output_type": "stream",
          "name": "stdout",
          "text": [
            "\r0% [Working]\r            \rHit:1 https://dl.google.com/linux/chrome/deb stable InRelease\n",
            "\r0% [Connecting to archive.ubuntu.com (91.189.91.82)] [Connecting to security.ubuntu.com] [Connected \r                                                                                                    \rHit:2 https://developer.download.nvidia.com/compute/cuda/repos/ubuntu2204/x86_64  InRelease\n",
            "Hit:3 https://cloud.r-project.org/bin/linux/ubuntu jammy-cran40/ InRelease\n",
            "Hit:4 http://archive.ubuntu.com/ubuntu jammy InRelease\n",
            "Hit:5 http://archive.ubuntu.com/ubuntu jammy-updates InRelease\n",
            "Hit:6 http://security.ubuntu.com/ubuntu jammy-security InRelease\n",
            "Hit:7 http://archive.ubuntu.com/ubuntu jammy-backports InRelease\n",
            "Hit:8 https://r2u.stat.illinois.edu/ubuntu jammy InRelease\n",
            "Hit:9 https://ppa.launchpadcontent.net/deadsnakes/ppa/ubuntu jammy InRelease\n",
            "Hit:10 https://ppa.launchpadcontent.net/graphics-drivers/ppa/ubuntu jammy InRelease\n",
            "Hit:11 https://ppa.launchpadcontent.net/ubuntugis/ppa/ubuntu jammy InRelease\n",
            "Reading package lists... Done\n",
            "W: Skipping acquire of configured file 'main/source/Sources' as repository 'https://r2u.stat.illinois.edu/ubuntu jammy InRelease' does not seem to provide it (sources.list entry misspelt?)\n",
            "Reading package lists... Done\n",
            "Building dependency tree... Done\n",
            "Reading state information... Done\n",
            "curl is already the newest version (7.81.0-1ubuntu1.20).\n",
            "unzip is already the newest version (6.0-26ubuntu3.2).\n",
            "wget is already the newest version (1.21.2-2ubuntu1.1).\n",
            "0 upgraded, 0 newly installed, 0 to remove and 53 not upgraded.\n"
          ]
        }
      ],
      "source": [
        "!apt-get update\n",
        "!apt-get install -y wget curl unzip\n"
      ]
    },
    {
      "cell_type": "code",
      "source": [
        "!wget https://dl.google.com/linux/direct/google-chrome-stable_current_amd64.deb\n",
        "!dpkg -i google-chrome-stable_current_amd64.deb\n",
        "!apt-get install -f  # To fix missing dependencies"
      ],
      "metadata": {
        "colab": {
          "base_uri": "https://localhost:8080/"
        },
        "id": "6vQlXPZMWkME",
        "outputId": "6f4a4065-d92e-44b3-bc13-c95d7b417bf6"
      },
      "execution_count": null,
      "outputs": [
        {
          "output_type": "stream",
          "name": "stdout",
          "text": [
            "--2025-01-05 17:57:43--  https://dl.google.com/linux/direct/google-chrome-stable_current_amd64.deb\n",
            "Resolving dl.google.com (dl.google.com)... 173.194.174.190, 173.194.174.136, 173.194.174.93, ...\n",
            "Connecting to dl.google.com (dl.google.com)|173.194.174.190|:443... connected.\n",
            "HTTP request sent, awaiting response... 200 OK\n",
            "Length: 112770956 (108M) [application/x-debian-package]\n",
            "Saving to: ‘google-chrome-stable_current_amd64.deb’\n",
            "\n",
            "google-chrome-stabl 100%[===================>] 107.55M   314MB/s    in 0.3s    \n",
            "\n",
            "2025-01-05 17:57:44 (314 MB/s) - ‘google-chrome-stable_current_amd64.deb’ saved [112770956/112770956]\n",
            "\n",
            "(Reading database ... 124254 files and directories currently installed.)\n",
            "Preparing to unpack google-chrome-stable_current_amd64.deb ...\n",
            "Unpacking google-chrome-stable (131.0.6778.204-1) over (131.0.6778.204-1) ...\n",
            "Setting up google-chrome-stable (131.0.6778.204-1) ...\n",
            "Processing triggers for man-db (2.10.2-1) ...\n",
            "Reading package lists... Done\n",
            "Building dependency tree... Done\n",
            "Reading state information... Done\n",
            "0 upgraded, 0 newly installed, 0 to remove and 53 not upgraded.\n"
          ]
        }
      ]
    },
    {
      "cell_type": "code",
      "source": [
        "!google-chrome-stable --version"
      ],
      "metadata": {
        "colab": {
          "base_uri": "https://localhost:8080/"
        },
        "id": "8nZxaP3uW1gW",
        "outputId": "d0cd2c67-bf49-41c7-decc-f9da84091e84"
      },
      "execution_count": null,
      "outputs": [
        {
          "output_type": "stream",
          "name": "stdout",
          "text": [
            "Google Chrome 131.0.6778.204 \n"
          ]
        }
      ]
    },
    {
      "cell_type": "code",
      "source": [
        "import subprocess\n",
        "\n",
        "# Run command to get Chrome version\n",
        "chrome_version_output = subprocess.check_output([\"google-chrome-stable\", \"--version\"]).decode(\"utf-8\")\n",
        "# Extract version using regex\n",
        "chrome_version = chrome_version_output.split()[2].split('.')[0]\n",
        "\n",
        "print(f\"Extracted Chrome Version: {chrome_version}\")"
      ],
      "metadata": {
        "colab": {
          "base_uri": "https://localhost:8080/"
        },
        "id": "e4NYfUgBXH9d",
        "outputId": "69f41fd0-b6ba-4841-83f9-07dfe6f4da59"
      },
      "execution_count": null,
      "outputs": [
        {
          "output_type": "stream",
          "name": "stdout",
          "text": [
            "Extracted Chrome Version: 131\n"
          ]
        }
      ]
    },
    {
      "cell_type": "code",
      "source": [
        "!wget https://storage.googleapis.com/chrome-for-testing-public/131.0.6778.204/linux64/chromedriver-linux64.zip\n",
        "\n",
        "\n"
      ],
      "metadata": {
        "colab": {
          "base_uri": "https://localhost:8080/"
        },
        "id": "LBVI3NlBXRBN",
        "outputId": "6e1eeeb3-a80c-4ad4-9f0b-a515bbc80e33"
      },
      "execution_count": null,
      "outputs": [
        {
          "output_type": "stream",
          "name": "stdout",
          "text": [
            "--2025-01-05 17:58:34--  https://storage.googleapis.com/chrome-for-testing-public/131.0.6778.204/linux64/chromedriver-linux64.zip\n",
            "Resolving storage.googleapis.com (storage.googleapis.com)... 64.233.189.207, 108.177.97.207, 108.177.125.207, ...\n",
            "Connecting to storage.googleapis.com (storage.googleapis.com)|64.233.189.207|:443... connected.\n",
            "HTTP request sent, awaiting response... 200 OK\n",
            "Length: 9945236 (9.5M) [application/zip]\n",
            "Saving to: ‘chromedriver-linux64.zip’\n",
            "\n",
            "chromedriver-linux6 100%[===================>]   9.48M  6.23MB/s    in 1.5s    \n",
            "\n",
            "2025-01-05 17:58:37 (6.23 MB/s) - ‘chromedriver-linux64.zip’ saved [9945236/9945236]\n",
            "\n"
          ]
        }
      ]
    },
    {
      "cell_type": "code",
      "source": [
        "!unzip chromedriver-linux64.zip"
      ],
      "metadata": {
        "colab": {
          "base_uri": "https://localhost:8080/"
        },
        "id": "163OE10TXafu",
        "outputId": "9067b207-98c2-4a4f-c8f7-1d5f73217ff9"
      },
      "execution_count": null,
      "outputs": [
        {
          "output_type": "stream",
          "name": "stdout",
          "text": [
            "Archive:  chromedriver-linux64.zip\n",
            "  inflating: chromedriver-linux64/LICENSE.chromedriver  \n",
            "  inflating: chromedriver-linux64/THIRD_PARTY_NOTICES.chromedriver  \n",
            "  inflating: chromedriver-linux64/chromedriver  \n"
          ]
        }
      ]
    },
    {
      "cell_type": "code",
      "source": [
        "!chmod +x /content/chromedriver-linux64/chromedriver"
      ],
      "metadata": {
        "id": "OK2--ep0Xl1Q"
      },
      "execution_count": null,
      "outputs": []
    },
    {
      "cell_type": "code",
      "source": [
        " !pip install selenium"
      ],
      "metadata": {
        "colab": {
          "base_uri": "https://localhost:8080/"
        },
        "id": "4NEt1dZkX7RI",
        "outputId": "619b3934-0d08-4504-d7de-04e454a2253d"
      },
      "execution_count": null,
      "outputs": [
        {
          "output_type": "stream",
          "name": "stdout",
          "text": [
            "Requirement already satisfied: selenium in /usr/local/lib/python3.10/dist-packages (4.27.1)\n",
            "Requirement already satisfied: urllib3<3,>=1.26 in /usr/local/lib/python3.10/dist-packages (from urllib3[socks]<3,>=1.26->selenium) (2.2.3)\n",
            "Requirement already satisfied: trio~=0.17 in /usr/local/lib/python3.10/dist-packages (from selenium) (0.28.0)\n",
            "Requirement already satisfied: trio-websocket~=0.9 in /usr/local/lib/python3.10/dist-packages (from selenium) (0.11.1)\n",
            "Requirement already satisfied: certifi>=2021.10.8 in /usr/local/lib/python3.10/dist-packages (from selenium) (2024.12.14)\n",
            "Requirement already satisfied: typing_extensions~=4.9 in /usr/local/lib/python3.10/dist-packages (from selenium) (4.12.2)\n",
            "Requirement already satisfied: websocket-client~=1.8 in /usr/local/lib/python3.10/dist-packages (from selenium) (1.8.0)\n",
            "Requirement already satisfied: attrs>=23.2.0 in /usr/local/lib/python3.10/dist-packages (from trio~=0.17->selenium) (24.3.0)\n",
            "Requirement already satisfied: sortedcontainers in /usr/local/lib/python3.10/dist-packages (from trio~=0.17->selenium) (2.4.0)\n",
            "Requirement already satisfied: idna in /usr/local/lib/python3.10/dist-packages (from trio~=0.17->selenium) (3.10)\n",
            "Requirement already satisfied: outcome in /usr/local/lib/python3.10/dist-packages (from trio~=0.17->selenium) (1.3.0.post0)\n",
            "Requirement already satisfied: sniffio>=1.3.0 in /usr/local/lib/python3.10/dist-packages (from trio~=0.17->selenium) (1.3.1)\n",
            "Requirement already satisfied: exceptiongroup in /usr/local/lib/python3.10/dist-packages (from trio~=0.17->selenium) (1.2.2)\n",
            "Requirement already satisfied: wsproto>=0.14 in /usr/local/lib/python3.10/dist-packages (from trio-websocket~=0.9->selenium) (1.2.0)\n",
            "Requirement already satisfied: pysocks!=1.5.7,<2.0,>=1.5.6 in /usr/local/lib/python3.10/dist-packages (from urllib3[socks]<3,>=1.26->selenium) (1.7.1)\n",
            "Requirement already satisfied: h11<1,>=0.9.0 in /usr/local/lib/python3.10/dist-packages (from wsproto>=0.14->trio-websocket~=0.9->selenium) (0.14.0)\n"
          ]
        }
      ]
    },
    {
      "cell_type": "code",
      "source": [
        "from selenium import webdriver\n",
        "from selenium.webdriver.chrome.service import Service\n",
        "from selenium.webdriver.chrome.options import Options\n",
        "\n",
        "# Set up Chrome options for headless mode\n",
        "chrome_options = Options()\n",
        "chrome_options.add_argument(\"--headless\")  # Run Chrome in headless mode (without UI)\n",
        "chrome_options.add_argument(\"--no-sandbox\")  # Disable sandboxing (required in Colab)\n",
        "chrome_options.add_argument(\"--disable-dev-shm-usage\")  # Disable /dev/shm usage (avoids crash)\n",
        "chrome_options.add_argument(\"--remote-debugging-port=9222\")  # Avoid port conflicts\n",
        "\n",
        "# Path to ChromeDriver (it is now in /usr/local/bin/)\n",
        "chrome_driver_path = '/content/chromedriver-linux64/chromedriver'\n",
        "\n",
        "# Set up the Service object for ChromeDriver\n",
        "service = Service(chrome_driver_path)\n",
        "\n",
        "# Initialize the WebDriver with the Service object and options\n",
        "driver = webdriver.Chrome(service=service, options=chrome_options)\n",
        "\n",
        "# Test by navigating to a URL (Google in this case)\n",
        "driver.get(\"https://youtu.be/Qye2HPaiB98?si=jPg3wLvQ3iclVHAi\")\n",
        "\n",
        "# Print the title of the page to check if it worked\n",
        "print(driver.title)  # Should print 'Google'\n",
        "\n",
        "# Close the driver after testing\n",
        "driver.quit()"
      ],
      "metadata": {
        "colab": {
          "base_uri": "https://localhost:8080/"
        },
        "id": "fHAShlmYYBs9",
        "outputId": "7f1032ab-7768-465e-8c4c-61f6d048d1bc"
      },
      "execution_count": null,
      "outputs": [
        {
          "output_type": "stream",
          "name": "stdout",
          "text": [
            "Full Video: Gango Renuka Thalli (Jathara) | Pushpa 2 The Rule | Allu Arjun | Rashmika | Sukumar |DSP - YouTube\n"
          ]
        }
      ]
    },
    {
      "cell_type": "code",
      "source": [
        "import time\n",
        "import numpy as np\n",
        "import matplotlib.pyplot as plt\n",
        "from selenium import webdriver\n",
        "from selenium.webdriver.chrome.service import Service\n",
        "from selenium.webdriver.chrome.options import Options\n",
        "from selenium.webdriver.common.by import By\n",
        "from selenium.webdriver.common.keys import Keys\n",
        "from selenium.webdriver.support.ui import WebDriverWait\n",
        "from selenium.webdriver.support import expected_conditions as EC\n",
        "\n",
        "# Set up Chrome options for headless mode (no GUI)\n",
        "chrome_options = Options()\n",
        "chrome_options.add_argument(\"--headless\")  # Run Chrome in headless mode (without UI)\n",
        "chrome_options.add_argument(\"--no-sandbox\")  # Disable sandboxing (required in Colab)\n",
        "chrome_options.add_argument(\"--disable-dev-shm-usage\")  # Disable /dev/shm usage (avoids crash)\n",
        "\n",
        "# Path to ChromeDriver (adjust this based on your system)\n",
        "chrome_driver_path = '/content/chromedriver-linux64/chromedriver'\n",
        "\n",
        "# Set up the Service object for ChromeDriver\n",
        "service = Service(chrome_driver_path)\n",
        "\n",
        "# Initialize the WebDriver with the Service object and options\n",
        "driver = webdriver.Chrome(service=service, options=chrome_options)\n",
        "\n",
        "# Ensure the file path is correct for the local HTML file (using file:// format)\n",
        "file_path = 'file:///content/WEATHER.HTML'  # Update the file path accordingly\n",
        "driver.get(file_path)\n",
        "\n",
        "# Wait for the elements to be visible (adjust time as needed)\n",
        "wait = WebDriverWait(driver, 10)  # Wait up to 10 seconds\n",
        "\n",
        "try:\n",
        "    # Find input elements (wait for their visibility)\n",
        "    a_input = wait.until(EC.presence_of_element_located((By.ID, \"a\")))  # Adjust the ID as per your HTML\n",
        "    b_input = wait.until(EC.presence_of_element_located((By.ID, \"b\")))\n",
        "    c_input = wait.until(EC.presence_of_element_located((By.ID, \"c\")))\n",
        "    t_input = wait.until(EC.presence_of_element_located((By.ID, \"t\")))\n",
        "\n",
        "    calculate_button = wait.until(EC.presence_of_element_located((By.XPATH, \"//button[@type='button']\")))\n",
        "\n",
        "    # Send test data\n",
        "    a_input.send_keys(\"1\")\n",
        "    b_input.send_keys(\"2\")\n",
        "    c_input.send_keys(\"3\")\n",
        "    t_input.send_keys(\"4\")\n",
        "\n",
        "    # Trigger calculation\n",
        "    calculate_button.click()\n",
        "\n",
        "    # Wait for the output to appear\n",
        "    time.sleep(2)\n",
        "\n",
        "    # Retrieve the result\n",
        "    output = driver.find_element(By.ID, \"output\").text\n",
        "    print(output)  # Should display: Temperature: 14.0°C\n",
        "\n",
        "except Exception as e:\n",
        "    print(\"Error:\", e)\n",
        "\n",
        "# Close the driver after testing\n",
        "driver.quit()"
      ],
      "metadata": {
        "colab": {
          "base_uri": "https://localhost:8080/"
        },
        "id": "DqQJPbkCYPZd",
        "outputId": "3c669ef3-9b4f-468a-c072-204fb382ba21"
      },
      "execution_count": null,
      "outputs": [
        {
          "output_type": "stream",
          "name": "stdout",
          "text": [
            "Temperature: 14.0°C\n"
          ]
        }
      ]
    },
    {
      "cell_type": "code",
      "source": [
        "import time\n",
        "from selenium import webdriver\n",
        "from selenium.webdriver.chrome.service import Service\n",
        "from selenium.webdriver.chrome.options import Options\n",
        "from selenium.webdriver.common.by import By\n",
        "from selenium.webdriver.support.ui import WebDriverWait\n",
        "from selenium.webdriver.support import expected_conditions as EC\n",
        "from IPython.display import Image, display  # Import to display images inline\n",
        "\n",
        "# Set up Chrome options for headless mode (no GUI)\n",
        "chrome_options = Options()\n",
        "chrome_options.add_argument(\"--headless\")  # Run Chrome in headless mode (without UI)\n",
        "chrome_options.add_argument(\"--no-sandbox\")  # Disable sandboxing (required in Colab)\n",
        "chrome_options.add_argument(\"--disable-dev-shm-usage\")  # Disable /dev/shm usage (avoids crash)\n",
        "\n",
        "# Path to ChromeDriver (adjust this based on your system)\n",
        "chrome_driver_path = '/content/chromedriver-linux64/chromedriver'  # Adjust as necessary\n",
        "\n",
        "# Set up the Service object for ChromeDriver\n",
        "service = Service(chrome_driver_path)\n",
        "\n",
        "# Initialize the WebDriver with the Service object and options\n",
        "driver = webdriver.Chrome(service=service, options=chrome_options)\n",
        "\n",
        "# Ensure the file path is correct for the local HTML file (using file:// format)\n",
        "file_path = 'file:///content/final2.html'  # Update with the actual path\n",
        "\n",
        "try:\n",
        "    print(\"Navigating to the HTML file...\")\n",
        "    driver.get(file_path)\n",
        "\n",
        "    # Wait for the elements to be visible (adjust time as needed)\n",
        "    wait = WebDriverWait(driver, 20)  # Wait up to 20 seconds\n",
        "\n",
        "    print(\"Waiting for input elements to load...\")\n",
        "    a1_input = wait.until(EC.presence_of_element_located((By.ID, \"a1\")))\n",
        "    b1_input = wait.until(EC.presence_of_element_located((By.ID, \"b1\")))\n",
        "    c1_input = wait.until(EC.presence_of_element_located((By.ID, \"c1\")))\n",
        "\n",
        "    a2_input = wait.until(EC.presence_of_element_located((By.ID, \"a2\")))\n",
        "    b2_input = wait.until(EC.presence_of_element_located((By.ID, \"b2\")))\n",
        "    c2_input = wait.until(EC.presence_of_element_located((By.ID, \"c2\")))\n",
        "\n",
        "    a3_input = wait.until(EC.presence_of_element_located((By.ID, \"a3\")))\n",
        "    b3_input = wait.until(EC.presence_of_element_located((By.ID, \"b3\")))\n",
        "    c3_input = wait.until(EC.presence_of_element_located((By.ID, \"c3\")))\n",
        "\n",
        "    plot_button = wait.until(EC.presence_of_element_located((By.XPATH, \"//button[@onclick='plotGraph()']\")))\n",
        "\n",
        "    print(\"Filling input fields with values...\")\n",
        "    # Send test data (you can modify these values to your own)\n",
        "    a1_input.clear()  # Clear the input before sending new values\n",
        "    a1_input.send_keys(\"8\")\n",
        "    b1_input.clear()\n",
        "    b1_input.send_keys(\"1\")\n",
        "    c1_input.clear()\n",
        "    c1_input.send_keys(\"7\")\n",
        "    a2_input.clear()\n",
        "    a2_input.send_keys(\"9\")\n",
        "    b2_input.clear()\n",
        "    b2_input.send_keys(\"-9\")\n",
        "    c2_input.clear()\n",
        "    c2_input.send_keys(\"9\")\n",
        "    a3_input.clear()\n",
        "    a3_input.send_keys(\"-6\")\n",
        "    b3_input.clear()\n",
        "    b3_input.send_keys(\"10\")\n",
        "    c3_input.clear()\n",
        "    c3_input.send_keys(\"-8\")\n",
        "\n",
        "    # Double-check values are entered correctly\n",
        "    print(\"Input values:\")\n",
        "    print(\"a1:\", a1_input.get_attribute('value'))\n",
        "    print(\"b1:\", b1_input.get_attribute('value'))\n",
        "    print(\"c1:\", c1_input.get_attribute('value'))\n",
        "    print(\"a2:\", a2_input.get_attribute('value'))\n",
        "    print(\"b2:\", b2_input.get_attribute('value'))\n",
        "    print(\"c2:\", c2_input.get_attribute('value'))\n",
        "    print(\"a3:\", a3_input.get_attribute('value'))\n",
        "    print(\"b3:\", b3_input.get_attribute('value'))\n",
        "    print(\"c3:\", c3_input.get_attribute('value'))\n",
        "\n",
        "    print(\"Clicking the plot button...\")\n",
        "    # Trigger the plot graph action\n",
        "    plot_button.click()\n",
        "\n",
        "    # Wait for the chart to render (adjust time as needed)\n",
        "    time.sleep(3)\n",
        "\n",
        "    # Scroll to the chart to ensure it is in the viewport\n",
        "    print(\"Scrolling to the chart...\")\n",
        "    chart_element = driver.find_element(By.ID, \"chart\")\n",
        "    driver.execute_script(\"arguments[0].scrollIntoView();\", chart_element)\n",
        "\n",
        "    # Wait a bit more to ensure the chart is visible\n",
        "    time.sleep(2)\n",
        "\n",
        "    # Take a screenshot of the entire page, including the chart\n",
        "    screenshot_path = \"/content/graph_screenshot.png\"\n",
        "    driver.save_screenshot(screenshot_path)\n",
        "    print(f\"Screenshot saved at: {screenshot_path}\")\n",
        "\n",
        "    # Display the screenshot inline\n",
        "    display(Image(filename=screenshot_path))  # Show the image in the output\n",
        "\n",
        "    print(\"Test completed successfully.\")\n",
        "\n",
        "except Exception as e:\n",
        "    print(\"Error encountered:\")\n",
        "    import traceback\n",
        "    traceback.print_exc()\n",
        "\n",
        "finally:\n",
        "    print(\"Closing the driver...\")\n",
        "    driver.quit()"
      ],
      "metadata": {
        "colab": {
          "base_uri": "https://localhost:8080/",
          "height": 779
        },
        "id": "iEPhPJoPYgMu",
        "outputId": "f1ee8484-4e3b-4feb-b75c-5cd89bd25e38"
      },
      "execution_count": null,
      "outputs": [
        {
          "output_type": "stream",
          "name": "stdout",
          "text": [
            "Navigating to the HTML file...\n",
            "Waiting for input elements to load...\n",
            "Filling input fields with values...\n",
            "Input values:\n",
            "a1: 8\n",
            "b1: 1\n",
            "c1: 7\n",
            "a2: 9\n",
            "b2: -9\n",
            "c2: 9\n",
            "a3: -6\n",
            "b3: 10\n",
            "c3: -8\n",
            "Clicking the plot button...\n",
            "Scrolling to the chart...\n",
            "Screenshot saved at: /content/graph_screenshot.png\n"
          ]
        },
        {
          "output_type": "display_data",
          "data": {
            "image/png": "[encoded data removed]",
            "text/plain": [
              "<IPython.core.display.Image object>"
            ]
          },
          "metadata": {}
        },
        {
          "output_type": "stream",
          "name": "stdout",
          "text": [
            "Test completed successfully.\n",
            "Closing the driver...\n"
          ]
        }
      ]
    }
  ]
}